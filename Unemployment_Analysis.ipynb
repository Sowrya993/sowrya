{
  "cells": [
    {
      "cell_type": "markdown",
      "metadata": {
        "id": "view-in-github",
        "colab_type": "text"
      },
      "source": [
        "<a href=\"https://colab.research.google.com/github/Sowrya993/sowrya/blob/main/Unemployment_Analysis.ipynb\" target=\"_parent\"><img src=\"https://colab.research.google.com/assets/colab-badge.svg\" alt=\"Open In Colab\"/></a>"
      ]
    },
    {
      "cell_type": "markdown",
      "source": [
        "## **UNEMPLOYMENT ANALYSIS WITH PYTHON**\n",
        "The unemployment rate is calculated based on a particular region,so to analyze unemployment i will be using an unemployment dataset of India.\n"
      ],
      "metadata": {
        "id": "-yBFj-__yfkK"
      }
    },
    {
      "cell_type": "markdown",
      "source": [
        "**IMPORTING ALL THE LIBRARIES**"
      ],
      "metadata": {
        "id": "EgLh080n0kO7"
      }
    },
    {
      "cell_type": "code",
      "source": [
        "import numpy as np\n",
        "import pandas as pd\n",
        "import matplotlib.pyplot as plt\n",
        "import seaborn as sn"
      ],
      "metadata": {
        "id": "dEXjn0IRyeZA"
      },
      "execution_count": 37,
      "outputs": []
    },
    {
      "cell_type": "markdown",
      "source": [
        "**LOADING THE REQUIRED DATASET**\n"
      ],
      "metadata": {
        "id": "prBYOnZg2Geo"
      }
    },
    {
      "cell_type": "code",
      "source": [
        "\n",
        "df=pd.read_csv('unemployment_in_india.csv')\n",
        "print(df)"
      ],
      "metadata": {
        "colab": {
          "base_uri": "https://localhost:8080/"
        },
        "id": "EeLA_fXU2Mwh",
        "outputId": "cbe770cb-740e-404e-9605-43c25963bb4d"
      },
      "execution_count": 84,
      "outputs": [
        {
          "output_type": "stream",
          "name": "stdout",
          "text": [
            "             region         date frequency  Estimated_unemployment_rate  \\\n",
            "0    Andhra Pradesh   31-05-2019   Monthly                         3.65   \n",
            "1    Andhra Pradesh   30-06-2019   Monthly                         3.05   \n",
            "2    Andhra Pradesh   31-07-2019   Monthly                         3.75   \n",
            "3    Andhra Pradesh   31-08-2019   Monthly                         3.32   \n",
            "4    Andhra Pradesh   30-09-2019   Monthly                         5.17   \n",
            "..              ...          ...       ...                          ...   \n",
            "749     West Bengal   29-02-2020   Monthly                         7.55   \n",
            "750     West Bengal   31-03-2020   Monthly                         6.67   \n",
            "751     West Bengal   30-04-2020   Monthly                        15.63   \n",
            "752     West Bengal   31-05-2020   Monthly                        15.22   \n",
            "753     West Bengal   30-06-2020   Monthly                         9.86   \n",
            "\n",
            "      estimated_employed   Estimated_Labour_Participation_Rate   area  \n",
            "0             11999139.0                                 43.24  Rural  \n",
            "1             11755881.0                                 42.05  Rural  \n",
            "2             12086707.0                                 43.50  Rural  \n",
            "3             12285693.0                                 43.97  Rural  \n",
            "4             12256762.0                                 44.68  Rural  \n",
            "..                   ...                                   ...    ...  \n",
            "749           10871168.0                                 44.09  Urban  \n",
            "750           10806105.0                                 43.34  Urban  \n",
            "751            9299466.0                                 41.20  Urban  \n",
            "752            9240903.0                                 40.67  Urban  \n",
            "753            9088931.0                                 37.57  Urban  \n",
            "\n",
            "[754 rows x 7 columns]\n"
          ]
        }
      ]
    },
    {
      "cell_type": "markdown",
      "source": [
        "**PRINTING FIRST AND LAST TEN ROWS OF DATSET**"
      ],
      "metadata": {
        "id": "hxu5oF3O4yT_"
      }
    },
    {
      "cell_type": "code",
      "source": [
        "df.head()"
      ],
      "metadata": {
        "colab": {
          "base_uri": "https://localhost:8080/",
          "height": 206
        },
        "id": "SfgGVMji46u7",
        "outputId": "745333e3-c09e-4aff-ab2a-b734e5168000"
      },
      "execution_count": 85,
      "outputs": [
        {
          "output_type": "execute_result",
          "data": {
            "text/plain": [
              "           region         date frequency  Estimated_unemployment_rate  \\\n",
              "0  Andhra Pradesh   31-05-2019   Monthly                         3.65   \n",
              "1  Andhra Pradesh   30-06-2019   Monthly                         3.05   \n",
              "2  Andhra Pradesh   31-07-2019   Monthly                         3.75   \n",
              "3  Andhra Pradesh   31-08-2019   Monthly                         3.32   \n",
              "4  Andhra Pradesh   30-09-2019   Monthly                         5.17   \n",
              "\n",
              "    estimated_employed   Estimated_Labour_Participation_Rate   area  \n",
              "0           11999139.0                                 43.24  Rural  \n",
              "1           11755881.0                                 42.05  Rural  \n",
              "2           12086707.0                                 43.50  Rural  \n",
              "3           12285693.0                                 43.97  Rural  \n",
              "4           12256762.0                                 44.68  Rural  "
            ],
            "text/html": [
              "\n",
              "  <div id=\"df-f7506818-3875-4f5b-943b-2cf28c876bc8\">\n",
              "    <div class=\"colab-df-container\">\n",
              "      <div>\n",
              "<style scoped>\n",
              "    .dataframe tbody tr th:only-of-type {\n",
              "        vertical-align: middle;\n",
              "    }\n",
              "\n",
              "    .dataframe tbody tr th {\n",
              "        vertical-align: top;\n",
              "    }\n",
              "\n",
              "    .dataframe thead th {\n",
              "        text-align: right;\n",
              "    }\n",
              "</style>\n",
              "<table border=\"1\" class=\"dataframe\">\n",
              "  <thead>\n",
              "    <tr style=\"text-align: right;\">\n",
              "      <th></th>\n",
              "      <th>region</th>\n",
              "      <th>date</th>\n",
              "      <th>frequency</th>\n",
              "      <th>Estimated_unemployment_rate</th>\n",
              "      <th>estimated_employed</th>\n",
              "      <th>Estimated_Labour_Participation_Rate</th>\n",
              "      <th>area</th>\n",
              "    </tr>\n",
              "  </thead>\n",
              "  <tbody>\n",
              "    <tr>\n",
              "      <th>0</th>\n",
              "      <td>Andhra Pradesh</td>\n",
              "      <td>31-05-2019</td>\n",
              "      <td>Monthly</td>\n",
              "      <td>3.65</td>\n",
              "      <td>11999139.0</td>\n",
              "      <td>43.24</td>\n",
              "      <td>Rural</td>\n",
              "    </tr>\n",
              "    <tr>\n",
              "      <th>1</th>\n",
              "      <td>Andhra Pradesh</td>\n",
              "      <td>30-06-2019</td>\n",
              "      <td>Monthly</td>\n",
              "      <td>3.05</td>\n",
              "      <td>11755881.0</td>\n",
              "      <td>42.05</td>\n",
              "      <td>Rural</td>\n",
              "    </tr>\n",
              "    <tr>\n",
              "      <th>2</th>\n",
              "      <td>Andhra Pradesh</td>\n",
              "      <td>31-07-2019</td>\n",
              "      <td>Monthly</td>\n",
              "      <td>3.75</td>\n",
              "      <td>12086707.0</td>\n",
              "      <td>43.50</td>\n",
              "      <td>Rural</td>\n",
              "    </tr>\n",
              "    <tr>\n",
              "      <th>3</th>\n",
              "      <td>Andhra Pradesh</td>\n",
              "      <td>31-08-2019</td>\n",
              "      <td>Monthly</td>\n",
              "      <td>3.32</td>\n",
              "      <td>12285693.0</td>\n",
              "      <td>43.97</td>\n",
              "      <td>Rural</td>\n",
              "    </tr>\n",
              "    <tr>\n",
              "      <th>4</th>\n",
              "      <td>Andhra Pradesh</td>\n",
              "      <td>30-09-2019</td>\n",
              "      <td>Monthly</td>\n",
              "      <td>5.17</td>\n",
              "      <td>12256762.0</td>\n",
              "      <td>44.68</td>\n",
              "      <td>Rural</td>\n",
              "    </tr>\n",
              "  </tbody>\n",
              "</table>\n",
              "</div>\n",
              "      <button class=\"colab-df-convert\" onclick=\"convertToInteractive('df-f7506818-3875-4f5b-943b-2cf28c876bc8')\"\n",
              "              title=\"Convert this dataframe to an interactive table.\"\n",
              "              style=\"display:none;\">\n",
              "        \n",
              "  <svg xmlns=\"http://www.w3.org/2000/svg\" height=\"24px\"viewBox=\"0 0 24 24\"\n",
              "       width=\"24px\">\n",
              "    <path d=\"M0 0h24v24H0V0z\" fill=\"none\"/>\n",
              "    <path d=\"M18.56 5.44l.94 2.06.94-2.06 2.06-.94-2.06-.94-.94-2.06-.94 2.06-2.06.94zm-11 1L8.5 8.5l.94-2.06 2.06-.94-2.06-.94L8.5 2.5l-.94 2.06-2.06.94zm10 10l.94 2.06.94-2.06 2.06-.94-2.06-.94-.94-2.06-.94 2.06-2.06.94z\"/><path d=\"M17.41 7.96l-1.37-1.37c-.4-.4-.92-.59-1.43-.59-.52 0-1.04.2-1.43.59L10.3 9.45l-7.72 7.72c-.78.78-.78 2.05 0 2.83L4 21.41c.39.39.9.59 1.41.59.51 0 1.02-.2 1.41-.59l7.78-7.78 2.81-2.81c.8-.78.8-2.07 0-2.86zM5.41 20L4 18.59l7.72-7.72 1.47 1.35L5.41 20z\"/>\n",
              "  </svg>\n",
              "      </button>\n",
              "      \n",
              "  <style>\n",
              "    .colab-df-container {\n",
              "      display:flex;\n",
              "      flex-wrap:wrap;\n",
              "      gap: 12px;\n",
              "    }\n",
              "\n",
              "    .colab-df-convert {\n",
              "      background-color: #E8F0FE;\n",
              "      border: none;\n",
              "      border-radius: 50%;\n",
              "      cursor: pointer;\n",
              "      display: none;\n",
              "      fill: #1967D2;\n",
              "      height: 32px;\n",
              "      padding: 0 0 0 0;\n",
              "      width: 32px;\n",
              "    }\n",
              "\n",
              "    .colab-df-convert:hover {\n",
              "      background-color: #E2EBFA;\n",
              "      box-shadow: 0px 1px 2px rgba(60, 64, 67, 0.3), 0px 1px 3px 1px rgba(60, 64, 67, 0.15);\n",
              "      fill: #174EA6;\n",
              "    }\n",
              "\n",
              "    [theme=dark] .colab-df-convert {\n",
              "      background-color: #3B4455;\n",
              "      fill: #D2E3FC;\n",
              "    }\n",
              "\n",
              "    [theme=dark] .colab-df-convert:hover {\n",
              "      background-color: #434B5C;\n",
              "      box-shadow: 0px 1px 3px 1px rgba(0, 0, 0, 0.15);\n",
              "      filter: drop-shadow(0px 1px 2px rgba(0, 0, 0, 0.3));\n",
              "      fill: #FFFFFF;\n",
              "    }\n",
              "  </style>\n",
              "\n",
              "      <script>\n",
              "        const buttonEl =\n",
              "          document.querySelector('#df-f7506818-3875-4f5b-943b-2cf28c876bc8 button.colab-df-convert');\n",
              "        buttonEl.style.display =\n",
              "          google.colab.kernel.accessAllowed ? 'block' : 'none';\n",
              "\n",
              "        async function convertToInteractive(key) {\n",
              "          const element = document.querySelector('#df-f7506818-3875-4f5b-943b-2cf28c876bc8');\n",
              "          const dataTable =\n",
              "            await google.colab.kernel.invokeFunction('convertToInteractive',\n",
              "                                                     [key], {});\n",
              "          if (!dataTable) return;\n",
              "\n",
              "          const docLinkHtml = 'Like what you see? Visit the ' +\n",
              "            '<a target=\"_blank\" href=https://colab.research.google.com/notebooks/data_table.ipynb>data table notebook</a>'\n",
              "            + ' to learn more about interactive tables.';\n",
              "          element.innerHTML = '';\n",
              "          dataTable['output_type'] = 'display_data';\n",
              "          await google.colab.output.renderOutput(dataTable, element);\n",
              "          const docLink = document.createElement('div');\n",
              "          docLink.innerHTML = docLinkHtml;\n",
              "          element.appendChild(docLink);\n",
              "        }\n",
              "      </script>\n",
              "    </div>\n",
              "  </div>\n",
              "  "
            ]
          },
          "metadata": {},
          "execution_count": 85
        }
      ]
    },
    {
      "cell_type": "code",
      "source": [
        "df.tail()"
      ],
      "metadata": {
        "colab": {
          "base_uri": "https://localhost:8080/",
          "height": 206
        },
        "id": "TRX0ZPL85LGY",
        "outputId": "6b61ca1b-b405-42e6-cf53-0b2494aac16c"
      },
      "execution_count": 86,
      "outputs": [
        {
          "output_type": "execute_result",
          "data": {
            "text/plain": [
              "          region         date frequency  Estimated_unemployment_rate  \\\n",
              "749  West Bengal   29-02-2020   Monthly                         7.55   \n",
              "750  West Bengal   31-03-2020   Monthly                         6.67   \n",
              "751  West Bengal   30-04-2020   Monthly                        15.63   \n",
              "752  West Bengal   31-05-2020   Monthly                        15.22   \n",
              "753  West Bengal   30-06-2020   Monthly                         9.86   \n",
              "\n",
              "      estimated_employed   Estimated_Labour_Participation_Rate   area  \n",
              "749           10871168.0                                 44.09  Urban  \n",
              "750           10806105.0                                 43.34  Urban  \n",
              "751            9299466.0                                 41.20  Urban  \n",
              "752            9240903.0                                 40.67  Urban  \n",
              "753            9088931.0                                 37.57  Urban  "
            ],
            "text/html": [
              "\n",
              "  <div id=\"df-b5ad5c1c-7b2e-44ad-ab93-39bf5660fa74\">\n",
              "    <div class=\"colab-df-container\">\n",
              "      <div>\n",
              "<style scoped>\n",
              "    .dataframe tbody tr th:only-of-type {\n",
              "        vertical-align: middle;\n",
              "    }\n",
              "\n",
              "    .dataframe tbody tr th {\n",
              "        vertical-align: top;\n",
              "    }\n",
              "\n",
              "    .dataframe thead th {\n",
              "        text-align: right;\n",
              "    }\n",
              "</style>\n",
              "<table border=\"1\" class=\"dataframe\">\n",
              "  <thead>\n",
              "    <tr style=\"text-align: right;\">\n",
              "      <th></th>\n",
              "      <th>region</th>\n",
              "      <th>date</th>\n",
              "      <th>frequency</th>\n",
              "      <th>Estimated_unemployment_rate</th>\n",
              "      <th>estimated_employed</th>\n",
              "      <th>Estimated_Labour_Participation_Rate</th>\n",
              "      <th>area</th>\n",
              "    </tr>\n",
              "  </thead>\n",
              "  <tbody>\n",
              "    <tr>\n",
              "      <th>749</th>\n",
              "      <td>West Bengal</td>\n",
              "      <td>29-02-2020</td>\n",
              "      <td>Monthly</td>\n",
              "      <td>7.55</td>\n",
              "      <td>10871168.0</td>\n",
              "      <td>44.09</td>\n",
              "      <td>Urban</td>\n",
              "    </tr>\n",
              "    <tr>\n",
              "      <th>750</th>\n",
              "      <td>West Bengal</td>\n",
              "      <td>31-03-2020</td>\n",
              "      <td>Monthly</td>\n",
              "      <td>6.67</td>\n",
              "      <td>10806105.0</td>\n",
              "      <td>43.34</td>\n",
              "      <td>Urban</td>\n",
              "    </tr>\n",
              "    <tr>\n",
              "      <th>751</th>\n",
              "      <td>West Bengal</td>\n",
              "      <td>30-04-2020</td>\n",
              "      <td>Monthly</td>\n",
              "      <td>15.63</td>\n",
              "      <td>9299466.0</td>\n",
              "      <td>41.20</td>\n",
              "      <td>Urban</td>\n",
              "    </tr>\n",
              "    <tr>\n",
              "      <th>752</th>\n",
              "      <td>West Bengal</td>\n",
              "      <td>31-05-2020</td>\n",
              "      <td>Monthly</td>\n",
              "      <td>15.22</td>\n",
              "      <td>9240903.0</td>\n",
              "      <td>40.67</td>\n",
              "      <td>Urban</td>\n",
              "    </tr>\n",
              "    <tr>\n",
              "      <th>753</th>\n",
              "      <td>West Bengal</td>\n",
              "      <td>30-06-2020</td>\n",
              "      <td>Monthly</td>\n",
              "      <td>9.86</td>\n",
              "      <td>9088931.0</td>\n",
              "      <td>37.57</td>\n",
              "      <td>Urban</td>\n",
              "    </tr>\n",
              "  </tbody>\n",
              "</table>\n",
              "</div>\n",
              "      <button class=\"colab-df-convert\" onclick=\"convertToInteractive('df-b5ad5c1c-7b2e-44ad-ab93-39bf5660fa74')\"\n",
              "              title=\"Convert this dataframe to an interactive table.\"\n",
              "              style=\"display:none;\">\n",
              "        \n",
              "  <svg xmlns=\"http://www.w3.org/2000/svg\" height=\"24px\"viewBox=\"0 0 24 24\"\n",
              "       width=\"24px\">\n",
              "    <path d=\"M0 0h24v24H0V0z\" fill=\"none\"/>\n",
              "    <path d=\"M18.56 5.44l.94 2.06.94-2.06 2.06-.94-2.06-.94-.94-2.06-.94 2.06-2.06.94zm-11 1L8.5 8.5l.94-2.06 2.06-.94-2.06-.94L8.5 2.5l-.94 2.06-2.06.94zm10 10l.94 2.06.94-2.06 2.06-.94-2.06-.94-.94-2.06-.94 2.06-2.06.94z\"/><path d=\"M17.41 7.96l-1.37-1.37c-.4-.4-.92-.59-1.43-.59-.52 0-1.04.2-1.43.59L10.3 9.45l-7.72 7.72c-.78.78-.78 2.05 0 2.83L4 21.41c.39.39.9.59 1.41.59.51 0 1.02-.2 1.41-.59l7.78-7.78 2.81-2.81c.8-.78.8-2.07 0-2.86zM5.41 20L4 18.59l7.72-7.72 1.47 1.35L5.41 20z\"/>\n",
              "  </svg>\n",
              "      </button>\n",
              "      \n",
              "  <style>\n",
              "    .colab-df-container {\n",
              "      display:flex;\n",
              "      flex-wrap:wrap;\n",
              "      gap: 12px;\n",
              "    }\n",
              "\n",
              "    .colab-df-convert {\n",
              "      background-color: #E8F0FE;\n",
              "      border: none;\n",
              "      border-radius: 50%;\n",
              "      cursor: pointer;\n",
              "      display: none;\n",
              "      fill: #1967D2;\n",
              "      height: 32px;\n",
              "      padding: 0 0 0 0;\n",
              "      width: 32px;\n",
              "    }\n",
              "\n",
              "    .colab-df-convert:hover {\n",
              "      background-color: #E2EBFA;\n",
              "      box-shadow: 0px 1px 2px rgba(60, 64, 67, 0.3), 0px 1px 3px 1px rgba(60, 64, 67, 0.15);\n",
              "      fill: #174EA6;\n",
              "    }\n",
              "\n",
              "    [theme=dark] .colab-df-convert {\n",
              "      background-color: #3B4455;\n",
              "      fill: #D2E3FC;\n",
              "    }\n",
              "\n",
              "    [theme=dark] .colab-df-convert:hover {\n",
              "      background-color: #434B5C;\n",
              "      box-shadow: 0px 1px 3px 1px rgba(0, 0, 0, 0.15);\n",
              "      filter: drop-shadow(0px 1px 2px rgba(0, 0, 0, 0.3));\n",
              "      fill: #FFFFFF;\n",
              "    }\n",
              "  </style>\n",
              "\n",
              "      <script>\n",
              "        const buttonEl =\n",
              "          document.querySelector('#df-b5ad5c1c-7b2e-44ad-ab93-39bf5660fa74 button.colab-df-convert');\n",
              "        buttonEl.style.display =\n",
              "          google.colab.kernel.accessAllowed ? 'block' : 'none';\n",
              "\n",
              "        async function convertToInteractive(key) {\n",
              "          const element = document.querySelector('#df-b5ad5c1c-7b2e-44ad-ab93-39bf5660fa74');\n",
              "          const dataTable =\n",
              "            await google.colab.kernel.invokeFunction('convertToInteractive',\n",
              "                                                     [key], {});\n",
              "          if (!dataTable) return;\n",
              "\n",
              "          const docLinkHtml = 'Like what you see? Visit the ' +\n",
              "            '<a target=\"_blank\" href=https://colab.research.google.com/notebooks/data_table.ipynb>data table notebook</a>'\n",
              "            + ' to learn more about interactive tables.';\n",
              "          element.innerHTML = '';\n",
              "          dataTable['output_type'] = 'display_data';\n",
              "          await google.colab.output.renderOutput(dataTable, element);\n",
              "          const docLink = document.createElement('div');\n",
              "          docLink.innerHTML = docLinkHtml;\n",
              "          element.appendChild(docLink);\n",
              "        }\n",
              "      </script>\n",
              "    </div>\n",
              "  </div>\n",
              "  "
            ]
          },
          "metadata": {},
          "execution_count": 86
        }
      ]
    },
    {
      "cell_type": "markdown",
      "source": [
        "**ANALYSING THE STATISTICS OF THE DATASET**"
      ],
      "metadata": {
        "id": "VS25ogY_5OvK"
      }
    },
    {
      "cell_type": "code",
      "source": [
        "df.describe()"
      ],
      "metadata": {
        "colab": {
          "base_uri": "https://localhost:8080/",
          "height": 300
        },
        "id": "aIrdOVgI5Vbo",
        "outputId": "47a742f9-7e1b-4638-cbc8-557b7c1a13f3"
      },
      "execution_count": 87,
      "outputs": [
        {
          "output_type": "execute_result",
          "data": {
            "text/plain": [
              "       Estimated_unemployment_rate   estimated_employed  \\\n",
              "count                   740.000000         7.400000e+02   \n",
              "mean                     11.787946         7.204460e+06   \n",
              "std                      10.721298         8.087988e+06   \n",
              "min                       0.000000         4.942000e+04   \n",
              "25%                       4.657500         1.190404e+06   \n",
              "50%                       8.350000         4.744178e+06   \n",
              "75%                      15.887500         1.127549e+07   \n",
              "max                      76.740000         4.577751e+07   \n",
              "\n",
              "        Estimated_Labour_Participation_Rate  \n",
              "count                            740.000000  \n",
              "mean                              42.630122  \n",
              "std                                8.111094  \n",
              "min                               13.330000  \n",
              "25%                               38.062500  \n",
              "50%                               41.160000  \n",
              "75%                               45.505000  \n",
              "max                               72.570000  "
            ],
            "text/html": [
              "\n",
              "  <div id=\"df-8aa42604-089b-40a4-b145-0802fc76cacc\">\n",
              "    <div class=\"colab-df-container\">\n",
              "      <div>\n",
              "<style scoped>\n",
              "    .dataframe tbody tr th:only-of-type {\n",
              "        vertical-align: middle;\n",
              "    }\n",
              "\n",
              "    .dataframe tbody tr th {\n",
              "        vertical-align: top;\n",
              "    }\n",
              "\n",
              "    .dataframe thead th {\n",
              "        text-align: right;\n",
              "    }\n",
              "</style>\n",
              "<table border=\"1\" class=\"dataframe\">\n",
              "  <thead>\n",
              "    <tr style=\"text-align: right;\">\n",
              "      <th></th>\n",
              "      <th>Estimated_unemployment_rate</th>\n",
              "      <th>estimated_employed</th>\n",
              "      <th>Estimated_Labour_Participation_Rate</th>\n",
              "    </tr>\n",
              "  </thead>\n",
              "  <tbody>\n",
              "    <tr>\n",
              "      <th>count</th>\n",
              "      <td>740.000000</td>\n",
              "      <td>7.400000e+02</td>\n",
              "      <td>740.000000</td>\n",
              "    </tr>\n",
              "    <tr>\n",
              "      <th>mean</th>\n",
              "      <td>11.787946</td>\n",
              "      <td>7.204460e+06</td>\n",
              "      <td>42.630122</td>\n",
              "    </tr>\n",
              "    <tr>\n",
              "      <th>std</th>\n",
              "      <td>10.721298</td>\n",
              "      <td>8.087988e+06</td>\n",
              "      <td>8.111094</td>\n",
              "    </tr>\n",
              "    <tr>\n",
              "      <th>min</th>\n",
              "      <td>0.000000</td>\n",
              "      <td>4.942000e+04</td>\n",
              "      <td>13.330000</td>\n",
              "    </tr>\n",
              "    <tr>\n",
              "      <th>25%</th>\n",
              "      <td>4.657500</td>\n",
              "      <td>1.190404e+06</td>\n",
              "      <td>38.062500</td>\n",
              "    </tr>\n",
              "    <tr>\n",
              "      <th>50%</th>\n",
              "      <td>8.350000</td>\n",
              "      <td>4.744178e+06</td>\n",
              "      <td>41.160000</td>\n",
              "    </tr>\n",
              "    <tr>\n",
              "      <th>75%</th>\n",
              "      <td>15.887500</td>\n",
              "      <td>1.127549e+07</td>\n",
              "      <td>45.505000</td>\n",
              "    </tr>\n",
              "    <tr>\n",
              "      <th>max</th>\n",
              "      <td>76.740000</td>\n",
              "      <td>4.577751e+07</td>\n",
              "      <td>72.570000</td>\n",
              "    </tr>\n",
              "  </tbody>\n",
              "</table>\n",
              "</div>\n",
              "      <button class=\"colab-df-convert\" onclick=\"convertToInteractive('df-8aa42604-089b-40a4-b145-0802fc76cacc')\"\n",
              "              title=\"Convert this dataframe to an interactive table.\"\n",
              "              style=\"display:none;\">\n",
              "        \n",
              "  <svg xmlns=\"http://www.w3.org/2000/svg\" height=\"24px\"viewBox=\"0 0 24 24\"\n",
              "       width=\"24px\">\n",
              "    <path d=\"M0 0h24v24H0V0z\" fill=\"none\"/>\n",
              "    <path d=\"M18.56 5.44l.94 2.06.94-2.06 2.06-.94-2.06-.94-.94-2.06-.94 2.06-2.06.94zm-11 1L8.5 8.5l.94-2.06 2.06-.94-2.06-.94L8.5 2.5l-.94 2.06-2.06.94zm10 10l.94 2.06.94-2.06 2.06-.94-2.06-.94-.94-2.06-.94 2.06-2.06.94z\"/><path d=\"M17.41 7.96l-1.37-1.37c-.4-.4-.92-.59-1.43-.59-.52 0-1.04.2-1.43.59L10.3 9.45l-7.72 7.72c-.78.78-.78 2.05 0 2.83L4 21.41c.39.39.9.59 1.41.59.51 0 1.02-.2 1.41-.59l7.78-7.78 2.81-2.81c.8-.78.8-2.07 0-2.86zM5.41 20L4 18.59l7.72-7.72 1.47 1.35L5.41 20z\"/>\n",
              "  </svg>\n",
              "      </button>\n",
              "      \n",
              "  <style>\n",
              "    .colab-df-container {\n",
              "      display:flex;\n",
              "      flex-wrap:wrap;\n",
              "      gap: 12px;\n",
              "    }\n",
              "\n",
              "    .colab-df-convert {\n",
              "      background-color: #E8F0FE;\n",
              "      border: none;\n",
              "      border-radius: 50%;\n",
              "      cursor: pointer;\n",
              "      display: none;\n",
              "      fill: #1967D2;\n",
              "      height: 32px;\n",
              "      padding: 0 0 0 0;\n",
              "      width: 32px;\n",
              "    }\n",
              "\n",
              "    .colab-df-convert:hover {\n",
              "      background-color: #E2EBFA;\n",
              "      box-shadow: 0px 1px 2px rgba(60, 64, 67, 0.3), 0px 1px 3px 1px rgba(60, 64, 67, 0.15);\n",
              "      fill: #174EA6;\n",
              "    }\n",
              "\n",
              "    [theme=dark] .colab-df-convert {\n",
              "      background-color: #3B4455;\n",
              "      fill: #D2E3FC;\n",
              "    }\n",
              "\n",
              "    [theme=dark] .colab-df-convert:hover {\n",
              "      background-color: #434B5C;\n",
              "      box-shadow: 0px 1px 3px 1px rgba(0, 0, 0, 0.15);\n",
              "      filter: drop-shadow(0px 1px 2px rgba(0, 0, 0, 0.3));\n",
              "      fill: #FFFFFF;\n",
              "    }\n",
              "  </style>\n",
              "\n",
              "      <script>\n",
              "        const buttonEl =\n",
              "          document.querySelector('#df-8aa42604-089b-40a4-b145-0802fc76cacc button.colab-df-convert');\n",
              "        buttonEl.style.display =\n",
              "          google.colab.kernel.accessAllowed ? 'block' : 'none';\n",
              "\n",
              "        async function convertToInteractive(key) {\n",
              "          const element = document.querySelector('#df-8aa42604-089b-40a4-b145-0802fc76cacc');\n",
              "          const dataTable =\n",
              "            await google.colab.kernel.invokeFunction('convertToInteractive',\n",
              "                                                     [key], {});\n",
              "          if (!dataTable) return;\n",
              "\n",
              "          const docLinkHtml = 'Like what you see? Visit the ' +\n",
              "            '<a target=\"_blank\" href=https://colab.research.google.com/notebooks/data_table.ipynb>data table notebook</a>'\n",
              "            + ' to learn more about interactive tables.';\n",
              "          element.innerHTML = '';\n",
              "          dataTable['output_type'] = 'display_data';\n",
              "          await google.colab.output.renderOutput(dataTable, element);\n",
              "          const docLink = document.createElement('div');\n",
              "          docLink.innerHTML = docLinkHtml;\n",
              "          element.appendChild(docLink);\n",
              "        }\n",
              "      </script>\n",
              "    </div>\n",
              "  </div>\n",
              "  "
            ]
          },
          "metadata": {},
          "execution_count": 87
        }
      ]
    },
    {
      "cell_type": "markdown",
      "source": [
        "when we analyse the above observation the maximum unemployment rate has touched nearly 76% it may be during the pandemic of COVID-19"
      ],
      "metadata": {
        "id": "td3cicS657lp"
      }
    },
    {
      "cell_type": "markdown",
      "source": [
        "**CHECKING FOR NUll VALUES IN THE DATASET**"
      ],
      "metadata": {
        "id": "B16zOa_W7E-J"
      }
    },
    {
      "cell_type": "code",
      "source": [
        "df.isnull().values.any()"
      ],
      "metadata": {
        "colab": {
          "base_uri": "https://localhost:8080/"
        },
        "id": "dwg6dOa67L9k",
        "outputId": "3a039c76-5869-49f1-b371-f94d6131a30f"
      },
      "execution_count": 88,
      "outputs": [
        {
          "output_type": "execute_result",
          "data": {
            "text/plain": [
              "True"
            ]
          },
          "metadata": {},
          "execution_count": 88
        }
      ]
    },
    {
      "cell_type": "markdown",
      "source": [
        "we can see our output is True that is our dataset contains some missing values so we want to drop that missing values so lets chect which columns contains missing values"
      ],
      "metadata": {
        "id": "wGxx1LO38UPn"
      }
    },
    {
      "cell_type": "code",
      "source": [
        "df.isnull().sum()"
      ],
      "metadata": {
        "colab": {
          "base_uri": "https://localhost:8080/"
        },
        "id": "rH7e5vjS7Br6",
        "outputId": "afc6bc25-e5c7-4602-af67-f87184251169"
      },
      "execution_count": 89,
      "outputs": [
        {
          "output_type": "execute_result",
          "data": {
            "text/plain": [
              "region                                  14\n",
              "date                                    14\n",
              "frequency                               14\n",
              "Estimated_unemployment_rate             14\n",
              " estimated_employed                     14\n",
              " Estimated_Labour_Participation_Rate    14\n",
              "area                                    14\n",
              "dtype: int64"
            ]
          },
          "metadata": {},
          "execution_count": 89
        }
      ]
    },
    {
      "cell_type": "markdown",
      "source": [
        "here we cn observe the total missing values in each column, we can observe nearly 14 missing values in each column"
      ],
      "metadata": {
        "id": "AXz5Xz5C894B"
      }
    },
    {
      "cell_type": "markdown",
      "source": [
        "**DROPPING THE MISSING VALUES**"
      ],
      "metadata": {
        "id": "9mNn6WWC9bmU"
      }
    },
    {
      "cell_type": "code",
      "source": [
        "df.dropna(axis=0)"
      ],
      "metadata": {
        "colab": {
          "base_uri": "https://localhost:8080/",
          "height": 423
        },
        "id": "7SB2rTEm9H7m",
        "outputId": "93fd1fa4-b47a-41dc-af44-b272f00715d3"
      },
      "execution_count": 90,
      "outputs": [
        {
          "output_type": "execute_result",
          "data": {
            "text/plain": [
              "             region         date frequency  Estimated_unemployment_rate  \\\n",
              "0    Andhra Pradesh   31-05-2019   Monthly                         3.65   \n",
              "1    Andhra Pradesh   30-06-2019   Monthly                         3.05   \n",
              "2    Andhra Pradesh   31-07-2019   Monthly                         3.75   \n",
              "3    Andhra Pradesh   31-08-2019   Monthly                         3.32   \n",
              "4    Andhra Pradesh   30-09-2019   Monthly                         5.17   \n",
              "..              ...          ...       ...                          ...   \n",
              "749     West Bengal   29-02-2020   Monthly                         7.55   \n",
              "750     West Bengal   31-03-2020   Monthly                         6.67   \n",
              "751     West Bengal   30-04-2020   Monthly                        15.63   \n",
              "752     West Bengal   31-05-2020   Monthly                        15.22   \n",
              "753     West Bengal   30-06-2020   Monthly                         9.86   \n",
              "\n",
              "      estimated_employed   Estimated_Labour_Participation_Rate   area  \n",
              "0             11999139.0                                 43.24  Rural  \n",
              "1             11755881.0                                 42.05  Rural  \n",
              "2             12086707.0                                 43.50  Rural  \n",
              "3             12285693.0                                 43.97  Rural  \n",
              "4             12256762.0                                 44.68  Rural  \n",
              "..                   ...                                   ...    ...  \n",
              "749           10871168.0                                 44.09  Urban  \n",
              "750           10806105.0                                 43.34  Urban  \n",
              "751            9299466.0                                 41.20  Urban  \n",
              "752            9240903.0                                 40.67  Urban  \n",
              "753            9088931.0                                 37.57  Urban  \n",
              "\n",
              "[740 rows x 7 columns]"
            ],
            "text/html": [
              "\n",
              "  <div id=\"df-13498940-0f0e-4c6d-b79d-22f0389d1de6\">\n",
              "    <div class=\"colab-df-container\">\n",
              "      <div>\n",
              "<style scoped>\n",
              "    .dataframe tbody tr th:only-of-type {\n",
              "        vertical-align: middle;\n",
              "    }\n",
              "\n",
              "    .dataframe tbody tr th {\n",
              "        vertical-align: top;\n",
              "    }\n",
              "\n",
              "    .dataframe thead th {\n",
              "        text-align: right;\n",
              "    }\n",
              "</style>\n",
              "<table border=\"1\" class=\"dataframe\">\n",
              "  <thead>\n",
              "    <tr style=\"text-align: right;\">\n",
              "      <th></th>\n",
              "      <th>region</th>\n",
              "      <th>date</th>\n",
              "      <th>frequency</th>\n",
              "      <th>Estimated_unemployment_rate</th>\n",
              "      <th>estimated_employed</th>\n",
              "      <th>Estimated_Labour_Participation_Rate</th>\n",
              "      <th>area</th>\n",
              "    </tr>\n",
              "  </thead>\n",
              "  <tbody>\n",
              "    <tr>\n",
              "      <th>0</th>\n",
              "      <td>Andhra Pradesh</td>\n",
              "      <td>31-05-2019</td>\n",
              "      <td>Monthly</td>\n",
              "      <td>3.65</td>\n",
              "      <td>11999139.0</td>\n",
              "      <td>43.24</td>\n",
              "      <td>Rural</td>\n",
              "    </tr>\n",
              "    <tr>\n",
              "      <th>1</th>\n",
              "      <td>Andhra Pradesh</td>\n",
              "      <td>30-06-2019</td>\n",
              "      <td>Monthly</td>\n",
              "      <td>3.05</td>\n",
              "      <td>11755881.0</td>\n",
              "      <td>42.05</td>\n",
              "      <td>Rural</td>\n",
              "    </tr>\n",
              "    <tr>\n",
              "      <th>2</th>\n",
              "      <td>Andhra Pradesh</td>\n",
              "      <td>31-07-2019</td>\n",
              "      <td>Monthly</td>\n",
              "      <td>3.75</td>\n",
              "      <td>12086707.0</td>\n",
              "      <td>43.50</td>\n",
              "      <td>Rural</td>\n",
              "    </tr>\n",
              "    <tr>\n",
              "      <th>3</th>\n",
              "      <td>Andhra Pradesh</td>\n",
              "      <td>31-08-2019</td>\n",
              "      <td>Monthly</td>\n",
              "      <td>3.32</td>\n",
              "      <td>12285693.0</td>\n",
              "      <td>43.97</td>\n",
              "      <td>Rural</td>\n",
              "    </tr>\n",
              "    <tr>\n",
              "      <th>4</th>\n",
              "      <td>Andhra Pradesh</td>\n",
              "      <td>30-09-2019</td>\n",
              "      <td>Monthly</td>\n",
              "      <td>5.17</td>\n",
              "      <td>12256762.0</td>\n",
              "      <td>44.68</td>\n",
              "      <td>Rural</td>\n",
              "    </tr>\n",
              "    <tr>\n",
              "      <th>...</th>\n",
              "      <td>...</td>\n",
              "      <td>...</td>\n",
              "      <td>...</td>\n",
              "      <td>...</td>\n",
              "      <td>...</td>\n",
              "      <td>...</td>\n",
              "      <td>...</td>\n",
              "    </tr>\n",
              "    <tr>\n",
              "      <th>749</th>\n",
              "      <td>West Bengal</td>\n",
              "      <td>29-02-2020</td>\n",
              "      <td>Monthly</td>\n",
              "      <td>7.55</td>\n",
              "      <td>10871168.0</td>\n",
              "      <td>44.09</td>\n",
              "      <td>Urban</td>\n",
              "    </tr>\n",
              "    <tr>\n",
              "      <th>750</th>\n",
              "      <td>West Bengal</td>\n",
              "      <td>31-03-2020</td>\n",
              "      <td>Monthly</td>\n",
              "      <td>6.67</td>\n",
              "      <td>10806105.0</td>\n",
              "      <td>43.34</td>\n",
              "      <td>Urban</td>\n",
              "    </tr>\n",
              "    <tr>\n",
              "      <th>751</th>\n",
              "      <td>West Bengal</td>\n",
              "      <td>30-04-2020</td>\n",
              "      <td>Monthly</td>\n",
              "      <td>15.63</td>\n",
              "      <td>9299466.0</td>\n",
              "      <td>41.20</td>\n",
              "      <td>Urban</td>\n",
              "    </tr>\n",
              "    <tr>\n",
              "      <th>752</th>\n",
              "      <td>West Bengal</td>\n",
              "      <td>31-05-2020</td>\n",
              "      <td>Monthly</td>\n",
              "      <td>15.22</td>\n",
              "      <td>9240903.0</td>\n",
              "      <td>40.67</td>\n",
              "      <td>Urban</td>\n",
              "    </tr>\n",
              "    <tr>\n",
              "      <th>753</th>\n",
              "      <td>West Bengal</td>\n",
              "      <td>30-06-2020</td>\n",
              "      <td>Monthly</td>\n",
              "      <td>9.86</td>\n",
              "      <td>9088931.0</td>\n",
              "      <td>37.57</td>\n",
              "      <td>Urban</td>\n",
              "    </tr>\n",
              "  </tbody>\n",
              "</table>\n",
              "<p>740 rows × 7 columns</p>\n",
              "</div>\n",
              "      <button class=\"colab-df-convert\" onclick=\"convertToInteractive('df-13498940-0f0e-4c6d-b79d-22f0389d1de6')\"\n",
              "              title=\"Convert this dataframe to an interactive table.\"\n",
              "              style=\"display:none;\">\n",
              "        \n",
              "  <svg xmlns=\"http://www.w3.org/2000/svg\" height=\"24px\"viewBox=\"0 0 24 24\"\n",
              "       width=\"24px\">\n",
              "    <path d=\"M0 0h24v24H0V0z\" fill=\"none\"/>\n",
              "    <path d=\"M18.56 5.44l.94 2.06.94-2.06 2.06-.94-2.06-.94-.94-2.06-.94 2.06-2.06.94zm-11 1L8.5 8.5l.94-2.06 2.06-.94-2.06-.94L8.5 2.5l-.94 2.06-2.06.94zm10 10l.94 2.06.94-2.06 2.06-.94-2.06-.94-.94-2.06-.94 2.06-2.06.94z\"/><path d=\"M17.41 7.96l-1.37-1.37c-.4-.4-.92-.59-1.43-.59-.52 0-1.04.2-1.43.59L10.3 9.45l-7.72 7.72c-.78.78-.78 2.05 0 2.83L4 21.41c.39.39.9.59 1.41.59.51 0 1.02-.2 1.41-.59l7.78-7.78 2.81-2.81c.8-.78.8-2.07 0-2.86zM5.41 20L4 18.59l7.72-7.72 1.47 1.35L5.41 20z\"/>\n",
              "  </svg>\n",
              "      </button>\n",
              "      \n",
              "  <style>\n",
              "    .colab-df-container {\n",
              "      display:flex;\n",
              "      flex-wrap:wrap;\n",
              "      gap: 12px;\n",
              "    }\n",
              "\n",
              "    .colab-df-convert {\n",
              "      background-color: #E8F0FE;\n",
              "      border: none;\n",
              "      border-radius: 50%;\n",
              "      cursor: pointer;\n",
              "      display: none;\n",
              "      fill: #1967D2;\n",
              "      height: 32px;\n",
              "      padding: 0 0 0 0;\n",
              "      width: 32px;\n",
              "    }\n",
              "\n",
              "    .colab-df-convert:hover {\n",
              "      background-color: #E2EBFA;\n",
              "      box-shadow: 0px 1px 2px rgba(60, 64, 67, 0.3), 0px 1px 3px 1px rgba(60, 64, 67, 0.15);\n",
              "      fill: #174EA6;\n",
              "    }\n",
              "\n",
              "    [theme=dark] .colab-df-convert {\n",
              "      background-color: #3B4455;\n",
              "      fill: #D2E3FC;\n",
              "    }\n",
              "\n",
              "    [theme=dark] .colab-df-convert:hover {\n",
              "      background-color: #434B5C;\n",
              "      box-shadow: 0px 1px 3px 1px rgba(0, 0, 0, 0.15);\n",
              "      filter: drop-shadow(0px 1px 2px rgba(0, 0, 0, 0.3));\n",
              "      fill: #FFFFFF;\n",
              "    }\n",
              "  </style>\n",
              "\n",
              "      <script>\n",
              "        const buttonEl =\n",
              "          document.querySelector('#df-13498940-0f0e-4c6d-b79d-22f0389d1de6 button.colab-df-convert');\n",
              "        buttonEl.style.display =\n",
              "          google.colab.kernel.accessAllowed ? 'block' : 'none';\n",
              "\n",
              "        async function convertToInteractive(key) {\n",
              "          const element = document.querySelector('#df-13498940-0f0e-4c6d-b79d-22f0389d1de6');\n",
              "          const dataTable =\n",
              "            await google.colab.kernel.invokeFunction('convertToInteractive',\n",
              "                                                     [key], {});\n",
              "          if (!dataTable) return;\n",
              "\n",
              "          const docLinkHtml = 'Like what you see? Visit the ' +\n",
              "            '<a target=\"_blank\" href=https://colab.research.google.com/notebooks/data_table.ipynb>data table notebook</a>'\n",
              "            + ' to learn more about interactive tables.';\n",
              "          element.innerHTML = '';\n",
              "          dataTable['output_type'] = 'display_data';\n",
              "          await google.colab.output.renderOutput(dataTable, element);\n",
              "          const docLink = document.createElement('div');\n",
              "          docLink.innerHTML = docLinkHtml;\n",
              "          element.appendChild(docLink);\n",
              "        }\n",
              "      </script>\n",
              "    </div>\n",
              "  </div>\n",
              "  "
            ]
          },
          "metadata": {},
          "execution_count": 90
        }
      ]
    },
    {
      "cell_type": "markdown",
      "source": [
        "here we used axis=0 that is we are dropping all the rows containing the missing values"
      ],
      "metadata": {
        "id": "KEXP8mK89hJO"
      }
    },
    {
      "cell_type": "markdown",
      "source": [
        "**CHECKING FOR DUPLICATE DATA**"
      ],
      "metadata": {
        "id": "OMs3ftfe90Kq"
      }
    },
    {
      "cell_type": "code",
      "source": [
        "df.duplicated().any()"
      ],
      "metadata": {
        "colab": {
          "base_uri": "https://localhost:8080/"
        },
        "id": "JjnLUYmB98R3",
        "outputId": "009049c7-bd1b-4077-c1e0-e373dd55571a"
      },
      "execution_count": 91,
      "outputs": [
        {
          "output_type": "execute_result",
          "data": {
            "text/plain": [
              "True"
            ]
          },
          "metadata": {},
          "execution_count": 91
        }
      ]
    },
    {
      "cell_type": "markdown",
      "source": [
        "we got output as True that is our dataset contains duplicate values so we have to drop that values"
      ],
      "metadata": {
        "id": "HS2VjHXP-NGD"
      }
    },
    {
      "cell_type": "markdown",
      "source": [
        "**DROPPING DUPLICATE DATA**"
      ],
      "metadata": {
        "id": "NqmC_BmW-Zm3"
      }
    },
    {
      "cell_type": "code",
      "source": [
        "df.drop_duplicates()"
      ],
      "metadata": {
        "colab": {
          "base_uri": "https://localhost:8080/",
          "height": 423
        },
        "id": "8v5RYqeq-Y8r",
        "outputId": "0a6cb17e-c4ca-4ed0-be7c-28f216d54be6"
      },
      "execution_count": 92,
      "outputs": [
        {
          "output_type": "execute_result",
          "data": {
            "text/plain": [
              "             region         date frequency  Estimated_unemployment_rate  \\\n",
              "0    Andhra Pradesh   31-05-2019   Monthly                         3.65   \n",
              "1    Andhra Pradesh   30-06-2019   Monthly                         3.05   \n",
              "2    Andhra Pradesh   31-07-2019   Monthly                         3.75   \n",
              "3    Andhra Pradesh   31-08-2019   Monthly                         3.32   \n",
              "4    Andhra Pradesh   30-09-2019   Monthly                         5.17   \n",
              "..              ...          ...       ...                          ...   \n",
              "749     West Bengal   29-02-2020   Monthly                         7.55   \n",
              "750     West Bengal   31-03-2020   Monthly                         6.67   \n",
              "751     West Bengal   30-04-2020   Monthly                        15.63   \n",
              "752     West Bengal   31-05-2020   Monthly                        15.22   \n",
              "753     West Bengal   30-06-2020   Monthly                         9.86   \n",
              "\n",
              "      estimated_employed   Estimated_Labour_Participation_Rate   area  \n",
              "0             11999139.0                                 43.24  Rural  \n",
              "1             11755881.0                                 42.05  Rural  \n",
              "2             12086707.0                                 43.50  Rural  \n",
              "3             12285693.0                                 43.97  Rural  \n",
              "4             12256762.0                                 44.68  Rural  \n",
              "..                   ...                                   ...    ...  \n",
              "749           10871168.0                                 44.09  Urban  \n",
              "750           10806105.0                                 43.34  Urban  \n",
              "751            9299466.0                                 41.20  Urban  \n",
              "752            9240903.0                                 40.67  Urban  \n",
              "753            9088931.0                                 37.57  Urban  \n",
              "\n",
              "[741 rows x 7 columns]"
            ],
            "text/html": [
              "\n",
              "  <div id=\"df-ed4bafb6-560c-4091-8d80-a600e74e7864\">\n",
              "    <div class=\"colab-df-container\">\n",
              "      <div>\n",
              "<style scoped>\n",
              "    .dataframe tbody tr th:only-of-type {\n",
              "        vertical-align: middle;\n",
              "    }\n",
              "\n",
              "    .dataframe tbody tr th {\n",
              "        vertical-align: top;\n",
              "    }\n",
              "\n",
              "    .dataframe thead th {\n",
              "        text-align: right;\n",
              "    }\n",
              "</style>\n",
              "<table border=\"1\" class=\"dataframe\">\n",
              "  <thead>\n",
              "    <tr style=\"text-align: right;\">\n",
              "      <th></th>\n",
              "      <th>region</th>\n",
              "      <th>date</th>\n",
              "      <th>frequency</th>\n",
              "      <th>Estimated_unemployment_rate</th>\n",
              "      <th>estimated_employed</th>\n",
              "      <th>Estimated_Labour_Participation_Rate</th>\n",
              "      <th>area</th>\n",
              "    </tr>\n",
              "  </thead>\n",
              "  <tbody>\n",
              "    <tr>\n",
              "      <th>0</th>\n",
              "      <td>Andhra Pradesh</td>\n",
              "      <td>31-05-2019</td>\n",
              "      <td>Monthly</td>\n",
              "      <td>3.65</td>\n",
              "      <td>11999139.0</td>\n",
              "      <td>43.24</td>\n",
              "      <td>Rural</td>\n",
              "    </tr>\n",
              "    <tr>\n",
              "      <th>1</th>\n",
              "      <td>Andhra Pradesh</td>\n",
              "      <td>30-06-2019</td>\n",
              "      <td>Monthly</td>\n",
              "      <td>3.05</td>\n",
              "      <td>11755881.0</td>\n",
              "      <td>42.05</td>\n",
              "      <td>Rural</td>\n",
              "    </tr>\n",
              "    <tr>\n",
              "      <th>2</th>\n",
              "      <td>Andhra Pradesh</td>\n",
              "      <td>31-07-2019</td>\n",
              "      <td>Monthly</td>\n",
              "      <td>3.75</td>\n",
              "      <td>12086707.0</td>\n",
              "      <td>43.50</td>\n",
              "      <td>Rural</td>\n",
              "    </tr>\n",
              "    <tr>\n",
              "      <th>3</th>\n",
              "      <td>Andhra Pradesh</td>\n",
              "      <td>31-08-2019</td>\n",
              "      <td>Monthly</td>\n",
              "      <td>3.32</td>\n",
              "      <td>12285693.0</td>\n",
              "      <td>43.97</td>\n",
              "      <td>Rural</td>\n",
              "    </tr>\n",
              "    <tr>\n",
              "      <th>4</th>\n",
              "      <td>Andhra Pradesh</td>\n",
              "      <td>30-09-2019</td>\n",
              "      <td>Monthly</td>\n",
              "      <td>5.17</td>\n",
              "      <td>12256762.0</td>\n",
              "      <td>44.68</td>\n",
              "      <td>Rural</td>\n",
              "    </tr>\n",
              "    <tr>\n",
              "      <th>...</th>\n",
              "      <td>...</td>\n",
              "      <td>...</td>\n",
              "      <td>...</td>\n",
              "      <td>...</td>\n",
              "      <td>...</td>\n",
              "      <td>...</td>\n",
              "      <td>...</td>\n",
              "    </tr>\n",
              "    <tr>\n",
              "      <th>749</th>\n",
              "      <td>West Bengal</td>\n",
              "      <td>29-02-2020</td>\n",
              "      <td>Monthly</td>\n",
              "      <td>7.55</td>\n",
              "      <td>10871168.0</td>\n",
              "      <td>44.09</td>\n",
              "      <td>Urban</td>\n",
              "    </tr>\n",
              "    <tr>\n",
              "      <th>750</th>\n",
              "      <td>West Bengal</td>\n",
              "      <td>31-03-2020</td>\n",
              "      <td>Monthly</td>\n",
              "      <td>6.67</td>\n",
              "      <td>10806105.0</td>\n",
              "      <td>43.34</td>\n",
              "      <td>Urban</td>\n",
              "    </tr>\n",
              "    <tr>\n",
              "      <th>751</th>\n",
              "      <td>West Bengal</td>\n",
              "      <td>30-04-2020</td>\n",
              "      <td>Monthly</td>\n",
              "      <td>15.63</td>\n",
              "      <td>9299466.0</td>\n",
              "      <td>41.20</td>\n",
              "      <td>Urban</td>\n",
              "    </tr>\n",
              "    <tr>\n",
              "      <th>752</th>\n",
              "      <td>West Bengal</td>\n",
              "      <td>31-05-2020</td>\n",
              "      <td>Monthly</td>\n",
              "      <td>15.22</td>\n",
              "      <td>9240903.0</td>\n",
              "      <td>40.67</td>\n",
              "      <td>Urban</td>\n",
              "    </tr>\n",
              "    <tr>\n",
              "      <th>753</th>\n",
              "      <td>West Bengal</td>\n",
              "      <td>30-06-2020</td>\n",
              "      <td>Monthly</td>\n",
              "      <td>9.86</td>\n",
              "      <td>9088931.0</td>\n",
              "      <td>37.57</td>\n",
              "      <td>Urban</td>\n",
              "    </tr>\n",
              "  </tbody>\n",
              "</table>\n",
              "<p>741 rows × 7 columns</p>\n",
              "</div>\n",
              "      <button class=\"colab-df-convert\" onclick=\"convertToInteractive('df-ed4bafb6-560c-4091-8d80-a600e74e7864')\"\n",
              "              title=\"Convert this dataframe to an interactive table.\"\n",
              "              style=\"display:none;\">\n",
              "        \n",
              "  <svg xmlns=\"http://www.w3.org/2000/svg\" height=\"24px\"viewBox=\"0 0 24 24\"\n",
              "       width=\"24px\">\n",
              "    <path d=\"M0 0h24v24H0V0z\" fill=\"none\"/>\n",
              "    <path d=\"M18.56 5.44l.94 2.06.94-2.06 2.06-.94-2.06-.94-.94-2.06-.94 2.06-2.06.94zm-11 1L8.5 8.5l.94-2.06 2.06-.94-2.06-.94L8.5 2.5l-.94 2.06-2.06.94zm10 10l.94 2.06.94-2.06 2.06-.94-2.06-.94-.94-2.06-.94 2.06-2.06.94z\"/><path d=\"M17.41 7.96l-1.37-1.37c-.4-.4-.92-.59-1.43-.59-.52 0-1.04.2-1.43.59L10.3 9.45l-7.72 7.72c-.78.78-.78 2.05 0 2.83L4 21.41c.39.39.9.59 1.41.59.51 0 1.02-.2 1.41-.59l7.78-7.78 2.81-2.81c.8-.78.8-2.07 0-2.86zM5.41 20L4 18.59l7.72-7.72 1.47 1.35L5.41 20z\"/>\n",
              "  </svg>\n",
              "      </button>\n",
              "      \n",
              "  <style>\n",
              "    .colab-df-container {\n",
              "      display:flex;\n",
              "      flex-wrap:wrap;\n",
              "      gap: 12px;\n",
              "    }\n",
              "\n",
              "    .colab-df-convert {\n",
              "      background-color: #E8F0FE;\n",
              "      border: none;\n",
              "      border-radius: 50%;\n",
              "      cursor: pointer;\n",
              "      display: none;\n",
              "      fill: #1967D2;\n",
              "      height: 32px;\n",
              "      padding: 0 0 0 0;\n",
              "      width: 32px;\n",
              "    }\n",
              "\n",
              "    .colab-df-convert:hover {\n",
              "      background-color: #E2EBFA;\n",
              "      box-shadow: 0px 1px 2px rgba(60, 64, 67, 0.3), 0px 1px 3px 1px rgba(60, 64, 67, 0.15);\n",
              "      fill: #174EA6;\n",
              "    }\n",
              "\n",
              "    [theme=dark] .colab-df-convert {\n",
              "      background-color: #3B4455;\n",
              "      fill: #D2E3FC;\n",
              "    }\n",
              "\n",
              "    [theme=dark] .colab-df-convert:hover {\n",
              "      background-color: #434B5C;\n",
              "      box-shadow: 0px 1px 3px 1px rgba(0, 0, 0, 0.15);\n",
              "      filter: drop-shadow(0px 1px 2px rgba(0, 0, 0, 0.3));\n",
              "      fill: #FFFFFF;\n",
              "    }\n",
              "  </style>\n",
              "\n",
              "      <script>\n",
              "        const buttonEl =\n",
              "          document.querySelector('#df-ed4bafb6-560c-4091-8d80-a600e74e7864 button.colab-df-convert');\n",
              "        buttonEl.style.display =\n",
              "          google.colab.kernel.accessAllowed ? 'block' : 'none';\n",
              "\n",
              "        async function convertToInteractive(key) {\n",
              "          const element = document.querySelector('#df-ed4bafb6-560c-4091-8d80-a600e74e7864');\n",
              "          const dataTable =\n",
              "            await google.colab.kernel.invokeFunction('convertToInteractive',\n",
              "                                                     [key], {});\n",
              "          if (!dataTable) return;\n",
              "\n",
              "          const docLinkHtml = 'Like what you see? Visit the ' +\n",
              "            '<a target=\"_blank\" href=https://colab.research.google.com/notebooks/data_table.ipynb>data table notebook</a>'\n",
              "            + ' to learn more about interactive tables.';\n",
              "          element.innerHTML = '';\n",
              "          dataTable['output_type'] = 'display_data';\n",
              "          await google.colab.output.renderOutput(dataTable, element);\n",
              "          const docLink = document.createElement('div');\n",
              "          docLink.innerHTML = docLinkHtml;\n",
              "          element.appendChild(docLink);\n",
              "        }\n",
              "      </script>\n",
              "    </div>\n",
              "  </div>\n",
              "  "
            ]
          },
          "metadata": {},
          "execution_count": 92
        }
      ]
    },
    {
      "cell_type": "markdown",
      "source": [
        "**DISPLAYING THE REGIONS HAVING THE UNEMPLOYMENT RATE GREATER THAN 50%**"
      ],
      "metadata": {
        "id": "076qHBoSPAgK"
      }
    },
    {
      "cell_type": "code",
      "source": [
        "df[df['Estimated_unemployment_rate']>=50]['region']"
      ],
      "metadata": {
        "colab": {
          "base_uri": "https://localhost:8080/"
        },
        "id": "IQc5KMjZL5q9",
        "outputId": "bb95df49-3fec-4910-f2d9-04edc6d9fa42"
      },
      "execution_count": 93,
      "outputs": [
        {
          "output_type": "execute_result",
          "data": {
            "text/plain": [
              "145           Jharkhand\n",
              "242          Puducherry\n",
              "287          Tamil Nadu\n",
              "412               Bihar\n",
              "507    Himachal Pradesh\n",
              "530           Jharkhand\n",
              "531           Jharkhand\n",
              "627          Puducherry\n",
              "628          Puducherry\n",
              "Name: region, dtype: object"
            ]
          },
          "metadata": {},
          "execution_count": 93
        }
      ]
    },
    {
      "cell_type": "markdown",
      "source": [
        "**LET'S CHECK IN WHICH YEAR THERE WAS THE HIGHEST AVERAGE UNEMPLOYMENT RATE**"
      ],
      "metadata": {
        "id": "Ng1wXYaDPbiU"
      }
    },
    {
      "cell_type": "code",
      "source": [
        "df.groupby('date')['Estimated_unemployment_rate'].mean().sort_values(ascending=False)"
      ],
      "metadata": {
        "colab": {
          "base_uri": "https://localhost:8080/"
        },
        "id": "u_0E_1N8Pr04",
        "outputId": "93d564e3-11ff-47ba-f787-3f7b07a6466d"
      },
      "execution_count": 94,
      "outputs": [
        {
          "output_type": "execute_result",
          "data": {
            "text/plain": [
              "date\n",
              " 31-05-2020    24.875294\n",
              " 30-04-2020    23.641569\n",
              " 30-06-2020    11.903600\n",
              " 31-03-2020    10.700577\n",
              " 29-02-2020     9.964717\n",
              " 31-01-2020     9.950755\n",
              " 31-10-2019     9.900909\n",
              " 30-11-2019     9.868364\n",
              " 31-08-2019     9.637925\n",
              " 31-12-2019     9.497358\n",
              " 30-06-2019     9.303333\n",
              " 30-09-2019     9.051731\n",
              " 31-07-2019     9.033889\n",
              " 31-05-2019     8.874259\n",
              "Name: Estimated_unemployment_rate, dtype: float64"
            ]
          },
          "metadata": {},
          "execution_count": 94
        }
      ]
    },
    {
      "cell_type": "markdown",
      "source": [
        "here we can see from the above analysis we got highest average of unemployment rate during the year 2020 due to COVID-19 lets observe it in a pictorial way"
      ],
      "metadata": {
        "id": "6fcGJa21SAqq"
      }
    },
    {
      "cell_type": "code",
      "source": [
        "sn.barplot(x='date',y='Estimated_unemployment_rate',data=df)"
      ],
      "metadata": {
        "colab": {
          "base_uri": "https://localhost:8080/",
          "height": 466
        },
        "id": "b5dpmlwoQZUf",
        "outputId": "3019d61c-f4a3-4a8a-88dd-c7e27f0df9d2"
      },
      "execution_count": 95,
      "outputs": [
        {
          "output_type": "execute_result",
          "data": {
            "text/plain": [
              "<Axes: xlabel='date', ylabel='Estimated_unemployment_rate'>"
            ]
          },
          "metadata": {},
          "execution_count": 95
        },
        {
          "output_type": "display_data",
          "data": {
            "text/plain": [
              "<Figure size 640x480 with 1 Axes>"
            ],
            "image/png": "[encoded data removed]"
          },
          "metadata": {}
        }
      ]
    },
    {
      "cell_type": "markdown",
      "source": [
        "**LET'S CHECK IN WHICH YEAR THERE IS HIGHEST AVERAGE OF LABOUR PARTICIPATION RATE**"
      ],
      "metadata": {
        "id": "_qqgikETS4eS"
      }
    },
    {
      "cell_type": "code",
      "source": [
        "df.groupby('date')[' Estimated_Labour_Participation_Rate'].mean().sort_values(ascending=False)"
      ],
      "metadata": {
        "colab": {
          "base_uri": "https://localhost:8080/"
        },
        "id": "o1nqKjGHSvHX",
        "outputId": "1ade87e7-16ac-45e1-853f-ef30bb55b2b1"
      },
      "execution_count": 68,
      "outputs": [
        {
          "output_type": "execute_result",
          "data": {
            "text/plain": [
              "date\n",
              " 30-09-2019    44.301346\n",
              " 30-11-2019    44.110545\n",
              " 31-01-2020    44.051321\n",
              " 31-10-2019    44.001273\n",
              " 31-05-2019    43.902963\n",
              " 30-06-2019    43.750556\n",
              " 29-02-2020    43.723019\n",
              " 31-07-2019    43.706667\n",
              " 31-12-2019    43.667358\n",
              " 31-08-2019    43.646792\n",
              " 31-03-2020    43.084038\n",
              " 30-06-2020    40.548400\n",
              " 31-05-2020    38.496863\n",
              " 30-04-2020    35.141176\n",
              "Name:  Estimated_Labour_Participation_Rate, dtype: float64"
            ]
          },
          "metadata": {},
          "execution_count": 68
        }
      ]
    },
    {
      "cell_type": "markdown",
      "source": [
        "from the above anlysis we can observe that there is a drastic decrease in the labour participation rate from 2019-2020 lets see it in a pictorial way"
      ],
      "metadata": {
        "id": "KtRwPG6hUZOP"
      }
    },
    {
      "cell_type": "code",
      "source": [
        "sn.barplot(x='date',y=' Estimated_Labour_Participation_Rate',data=df)"
      ],
      "metadata": {
        "colab": {
          "base_uri": "https://localhost:8080/",
          "height": 466
        },
        "id": "fxr_VxG-UrMD",
        "outputId": "4f1221d0-34f4-492f-b5b9-b2c75288d472"
      },
      "execution_count": 69,
      "outputs": [
        {
          "output_type": "execute_result",
          "data": {
            "text/plain": [
              "<Axes: xlabel='date', ylabel=' Estimated_Labour_Participation_Rate'>"
            ]
          },
          "metadata": {},
          "execution_count": 69
        },
        {
          "output_type": "display_data",
          "data": {
            "text/plain": [
              "<Figure size 640x480 with 1 Axes>"
            ],
            "image/png": "[encoded data removed]"
          },
          "metadata": {}
        }
      ]
    },
    {
      "cell_type": "markdown",
      "source": [
        "**DISPLAYING TOP 10 REGIONS WITH HIGHEST UNEMPLOYMENT RATE**"
      ],
      "metadata": {
        "id": "cPm5YByKWsPw"
      }
    },
    {
      "cell_type": "code",
      "source": [
        "top_ten=df.nlargest(10,'Estimated_unemployment_rate')[['region','Estimated_unemployment_rate']]"
      ],
      "metadata": {
        "id": "QUu6TtKRVigV"
      },
      "execution_count": 77,
      "outputs": []
    },
    {
      "cell_type": "markdown",
      "source": [
        "here are the regions with highest unemployment rate we can see puducherry tops the analysis because of loss of jobs mainly because of lockdown imposed to prevent the spread of covid 19."
      ],
      "metadata": {
        "id": "Kqbk3PVbW5WY"
      }
    },
    {
      "cell_type": "code",
      "source": [
        "sn.barplot(x='Estimated_unemployment_rate',y='region',data=top_ten)"
      ],
      "metadata": {
        "colab": {
          "base_uri": "https://localhost:8080/",
          "height": 467
        },
        "id": "1fq_XpspY-PG",
        "outputId": "555174f3-550d-4c7f-ec1b-e301586d1916"
      },
      "execution_count": 78,
      "outputs": [
        {
          "output_type": "execute_result",
          "data": {
            "text/plain": [
              "<Axes: xlabel='Estimated_unemployment_rate', ylabel='region'>"
            ]
          },
          "metadata": {},
          "execution_count": 78
        },
        {
          "output_type": "display_data",
          "data": {
            "text/plain": [
              "<Figure size 640x480 with 1 Axes>"
            ],
            "image/png": "[encoded data removed]"
          },
          "metadata": {}
        }
      ]
    },
    {
      "cell_type": "markdown",
      "source": [
        "**DISPLAYING THE AREA WITH HIGHEST UNEMPLOYMENT RATE**"
      ],
      "metadata": {
        "id": "uK-VBwAMb4bx"
      }
    },
    {
      "cell_type": "code",
      "source": [
        "df.groupby('area')['Estimated_unemployment_rate'].mean().sort_values(ascending=False)"
      ],
      "metadata": {
        "colab": {
          "base_uri": "https://localhost:8080/"
        },
        "id": "i4KsGQwjbtIW",
        "outputId": "c170057b-b871-4fb8-d836-149c7e4c9209"
      },
      "execution_count": 79,
      "outputs": [
        {
          "output_type": "execute_result",
          "data": {
            "text/plain": [
              "area\n",
              "Urban    13.166614\n",
              "Rural    10.324791\n",
              "Name: Estimated_unemployment_rate, dtype: float64"
            ]
          },
          "metadata": {},
          "execution_count": 79
        }
      ]
    },
    {
      "cell_type": "markdown",
      "source": [
        "compare to rural, urban area has highest unemployment rate lets see in a pictorial way"
      ],
      "metadata": {
        "id": "6wG0kUsEcDWH"
      }
    },
    {
      "cell_type": "code",
      "source": [
        "sn.barplot(x='area',y='Estimated_unemployment_rate',data=df)\n",
        "plt.title('AREA VS UNEMPLOYMENT RATE')\n",
        "plt.show()"
      ],
      "metadata": {
        "colab": {
          "base_uri": "https://localhost:8080/",
          "height": 472
        },
        "id": "k3i_U-MOcNmT",
        "outputId": "b154b983-8419-4e5e-8403-8483a3f0c7ce"
      },
      "execution_count": 100,
      "outputs": [
        {
          "output_type": "display_data",
          "data": {
            "text/plain": [
              "<Figure size 640x480 with 1 Axes>"
            ],
            "image/png": "[encoded data removed]"
          },
          "metadata": {}
        }
      ]
    },
    {
      "cell_type": "markdown",
      "source": [
        "**DISPLAYING THE AREA WITH HIGHEST ESTIMATED EMPLOYED**"
      ],
      "metadata": {
        "id": "UNtiwchwhGSl"
      }
    },
    {
      "cell_type": "code",
      "source": [
        "df.groupby('area')[' estimated_employed'].mean().sort_values(ascending=False)"
      ],
      "metadata": {
        "colab": {
          "base_uri": "https://localhost:8080/"
        },
        "id": "_tD__7lNc0UC",
        "outputId": "069f566d-cd57-4946-9f5a-757a872aef5c"
      },
      "execution_count": 98,
      "outputs": [
        {
          "output_type": "execute_result",
          "data": {
            "text/plain": [
              "area\n",
              "Rural    1.019285e+07\n",
              "Urban    4.388626e+06\n",
              "Name:  estimated_employed, dtype: float64"
            ]
          },
          "metadata": {},
          "execution_count": 98
        }
      ]
    },
    {
      "cell_type": "markdown",
      "source": [
        "automatically when we observe more unemployment rate in urban area here we can see that employed is highest in rural area lets see in a pictorial way"
      ],
      "metadata": {
        "id": "OBPa7aAAeqPd"
      }
    },
    {
      "cell_type": "code",
      "source": [
        "sn.barplot(x='area',y=' estimated_employed',data=df)\n",
        "plt.title('AREA VS EMPLOYED')\n",
        "plt.show()"
      ],
      "metadata": {
        "colab": {
          "base_uri": "https://localhost:8080/",
          "height": 472
        },
        "id": "BUraq3TGe9VY",
        "outputId": "e70c634b-e524-44b3-9fd5-aa51c655ac70"
      },
      "execution_count": 102,
      "outputs": [
        {
          "output_type": "display_data",
          "data": {
            "text/plain": [
              "<Figure size 640x480 with 1 Axes>"
            ],
            "image/png": "[encoded data removed]"
          },
          "metadata": {}
        }
      ]
    },
    {
      "cell_type": "code",
      "source": [
        "df.groupby('region')['Estimated_unemployment_rate'].mean().sort_values(ascending=False)"
      ],
      "metadata": {
        "colab": {
          "base_uri": "https://localhost:8080/"
        },
        "id": "G_gnU3jojJ1R",
        "outputId": "f8e9ac7d-8593-4922-c483-96c32199eb45"
      },
      "execution_count": 106,
      "outputs": [
        {
          "output_type": "execute_result",
          "data": {
            "text/plain": [
              "region\n",
              "Tripura             28.350357\n",
              "Haryana             26.283214\n",
              "Jharkhand           20.585000\n",
              "Bihar               18.918214\n",
              "Himachal Pradesh    18.540357\n",
              "Delhi               16.495357\n",
              "Jammu & Kashmir     16.188571\n",
              "Chandigarh          15.991667\n",
              "Rajasthan           14.058214\n",
              "Uttar Pradesh       12.551429\n",
              "Punjab              12.031071\n",
              "Puducherry          10.215000\n",
              "Kerala              10.123929\n",
              "Tamil Nadu           9.284286\n",
              "Goa                  9.274167\n",
              "Chhattisgarh         9.240357\n",
              "West Bengal          8.124643\n",
              "Telangana            7.737857\n",
              "Maharashtra          7.557500\n",
              "Andhra Pradesh       7.477143\n",
              "Madhya Pradesh       7.406429\n",
              "Sikkim               7.249412\n",
              "Karnataka            6.676071\n",
              "Gujarat              6.663929\n",
              "Uttarakhand          6.582963\n",
              "Assam                6.428077\n",
              "Odisha               5.657857\n",
              "Meghalaya            4.798889\n",
              "Name: Estimated_unemployment_rate, dtype: float64"
            ]
          },
          "metadata": {},
          "execution_count": 106
        }
      ]
    },
    {
      "cell_type": "code",
      "source": [
        "sn.barplot(x='region',y='Estimated_unemployment_rate',data=df)\n",
        "plt.title('REGION VS UNEMPLOYMENT RATE')\n",
        "plt.show()"
      ],
      "metadata": {
        "colab": {
          "base_uri": "https://localhost:8080/",
          "height": 472
        },
        "id": "3QS98uY9j3uG",
        "outputId": "046d4f3d-2381-431d-81db-dc1f29b6de18"
      },
      "execution_count": 109,
      "outputs": [
        {
          "output_type": "display_data",
          "data": {
            "text/plain": [
              "<Figure size 640x480 with 1 Axes>"
            ],
            "image/png": "[encoded data removed]"
          },
          "metadata": {}
        }
      ]
    },
    {
      "cell_type": "code",
      "source": [
        "sn.barplot(x='region',y=' estimated_employed',data=df)\n",
        "plt.title('REGION VS ESTIMATED EMPLOYED')\n",
        "plt.show()"
      ],
      "metadata": {
        "colab": {
          "base_uri": "https://localhost:8080/",
          "height": 472
        },
        "id": "5-7c5JarkqIZ",
        "outputId": "568372ce-b20e-4927-8f9a-4930190ccf53"
      },
      "execution_count": 111,
      "outputs": [
        {
          "output_type": "display_data",
          "data": {
            "text/plain": [
              "<Figure size 640x480 with 1 Axes>"
            ],
            "image/png": "[encoded data removed]"
          },
          "metadata": {}
        }
      ]
    },
    {
      "cell_type": "code",
      "source": [
        "from google.colab import drive\n",
        "drive.mount('/content/drive')"
      ],
      "metadata": {
        "id": "3W8RiRM1ojMH"
      },
      "execution_count": null,
      "outputs": []
    }
  ],
  "metadata": {
    "colab": {
      "name": "Welcome To Colaboratory",
      "toc_visible": true,
      "provenance": [],
      "include_colab_link": true
    },
    "kernelspec": {
      "display_name": "Python 3",
      "name": "python3"
    }
  },
  "nbformat": 4,
  "nbformat_minor": 0
}